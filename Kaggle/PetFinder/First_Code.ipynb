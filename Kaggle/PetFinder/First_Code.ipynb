{
 "cells": [
  {
   "cell_type": "markdown",
   "id": "e6c79373",
   "metadata": {},
   "source": [
    "# PetFinder.my - Pawpularity Contest\n",
    "Date : 2021/09/23 ~ 2022/01/22\n",
    "\n",
    "Start date : 2021/10/01 \n",
    "\n",
    "Data : ID를 포함한 13개의 컬럼, 사진 메타데이터, 사진데이터\n",
    "\n",
    "Metric : RMSE(평균제곱근오차)\n",
    "\n",
    "Questions Type : 예측(Prediction)"
   ]
  },
  {
   "cell_type": "markdown",
   "id": "94831244",
   "metadata": {},
   "source": [
    "# Exploring\n",
    "\n",
    "1. 사진을 제외한 데이터들을 이용하여 예측.\n",
    "2. 사진과 데이터들을 같이 포함하여 예측.\n",
    "3. 사진만 이용하여 예측\n",
    "\n",
    "1 :변수끼리의 관계를 중점적으로 확인\n",
    "\n",
    "2 : 사진안에 어떠한 부분이 Pawpularity 점수에 \n",
    "\n",
    "유의미한 영향을 끼치는지 확인(LIME)\n",
    "\n",
    "-> 2DCNN 등등 \n",
    "\n",
    "핵심 : 사진과 Binary 데이터들을 어떤식으로 조합하여 예측에 사용할지"
   ]
  },
  {
   "cell_type": "markdown",
   "id": "bce7ecae",
   "metadata": {},
   "source": [
    "# Exploratory Data Analysis"
   ]
  },
  {
   "cell_type": "code",
   "execution_count": 65,
   "id": "2c94b3e3",
   "metadata": {},
   "outputs": [],
   "source": [
    "import pandas as pd\n",
    "import matplotlib.pyplot as plt\n",
    "import seaborn as sns\n",
    "import scipy.stats as stats\n",
    "import xgboost as xgb\n",
    "from sklearn.model_selection import train_test_split,GridSearchCV\n",
    "from sklearn.metrics import mean_squared_error\n",
    "import lightgbm as lgb"
   ]
  },
  {
   "cell_type": "code",
   "execution_count": 5,
   "id": "a0a39ad5",
   "metadata": {},
   "outputs": [],
   "source": [
    "\n",
    "test_df = pd.read_csv('test.csv')\n",
    "train_df = pd.read_csv('train.csv')"
   ]
  },
  {
   "cell_type": "code",
   "execution_count": 6,
   "id": "657ecbe1",
   "metadata": {},
   "outputs": [
    {
     "data": {
      "text/html": [
       "<div>\n",
       "<style scoped>\n",
       "    .dataframe tbody tr th:only-of-type {\n",
       "        vertical-align: middle;\n",
       "    }\n",
       "\n",
       "    .dataframe tbody tr th {\n",
       "        vertical-align: top;\n",
       "    }\n",
       "\n",
       "    .dataframe thead th {\n",
       "        text-align: right;\n",
       "    }\n",
       "</style>\n",
       "<table border=\"1\" class=\"dataframe\">\n",
       "  <thead>\n",
       "    <tr style=\"text-align: right;\">\n",
       "      <th></th>\n",
       "      <th>Id</th>\n",
       "      <th>Subject Focus</th>\n",
       "      <th>Eyes</th>\n",
       "      <th>Face</th>\n",
       "      <th>Near</th>\n",
       "      <th>Action</th>\n",
       "      <th>Accessory</th>\n",
       "      <th>Group</th>\n",
       "      <th>Collage</th>\n",
       "      <th>Human</th>\n",
       "      <th>Occlusion</th>\n",
       "      <th>Info</th>\n",
       "      <th>Blur</th>\n",
       "      <th>Pawpularity</th>\n",
       "    </tr>\n",
       "  </thead>\n",
       "  <tbody>\n",
       "    <tr>\n",
       "      <th>0</th>\n",
       "      <td>0007de18844b0dbbb5e1f607da0606e0</td>\n",
       "      <td>0</td>\n",
       "      <td>1</td>\n",
       "      <td>1</td>\n",
       "      <td>1</td>\n",
       "      <td>0</td>\n",
       "      <td>0</td>\n",
       "      <td>1</td>\n",
       "      <td>0</td>\n",
       "      <td>0</td>\n",
       "      <td>0</td>\n",
       "      <td>0</td>\n",
       "      <td>0</td>\n",
       "      <td>63</td>\n",
       "    </tr>\n",
       "    <tr>\n",
       "      <th>1</th>\n",
       "      <td>0009c66b9439883ba2750fb825e1d7db</td>\n",
       "      <td>0</td>\n",
       "      <td>1</td>\n",
       "      <td>1</td>\n",
       "      <td>0</td>\n",
       "      <td>0</td>\n",
       "      <td>0</td>\n",
       "      <td>0</td>\n",
       "      <td>0</td>\n",
       "      <td>0</td>\n",
       "      <td>0</td>\n",
       "      <td>0</td>\n",
       "      <td>0</td>\n",
       "      <td>42</td>\n",
       "    </tr>\n",
       "    <tr>\n",
       "      <th>2</th>\n",
       "      <td>0013fd999caf9a3efe1352ca1b0d937e</td>\n",
       "      <td>0</td>\n",
       "      <td>1</td>\n",
       "      <td>1</td>\n",
       "      <td>1</td>\n",
       "      <td>0</td>\n",
       "      <td>0</td>\n",
       "      <td>0</td>\n",
       "      <td>0</td>\n",
       "      <td>1</td>\n",
       "      <td>1</td>\n",
       "      <td>0</td>\n",
       "      <td>0</td>\n",
       "      <td>28</td>\n",
       "    </tr>\n",
       "    <tr>\n",
       "      <th>3</th>\n",
       "      <td>0018df346ac9c1d8413cfcc888ca8246</td>\n",
       "      <td>0</td>\n",
       "      <td>1</td>\n",
       "      <td>1</td>\n",
       "      <td>1</td>\n",
       "      <td>0</td>\n",
       "      <td>0</td>\n",
       "      <td>0</td>\n",
       "      <td>0</td>\n",
       "      <td>0</td>\n",
       "      <td>0</td>\n",
       "      <td>0</td>\n",
       "      <td>0</td>\n",
       "      <td>15</td>\n",
       "    </tr>\n",
       "    <tr>\n",
       "      <th>4</th>\n",
       "      <td>001dc955e10590d3ca4673f034feeef2</td>\n",
       "      <td>0</td>\n",
       "      <td>0</td>\n",
       "      <td>0</td>\n",
       "      <td>1</td>\n",
       "      <td>0</td>\n",
       "      <td>0</td>\n",
       "      <td>1</td>\n",
       "      <td>0</td>\n",
       "      <td>0</td>\n",
       "      <td>0</td>\n",
       "      <td>0</td>\n",
       "      <td>0</td>\n",
       "      <td>72</td>\n",
       "    </tr>\n",
       "  </tbody>\n",
       "</table>\n",
       "</div>"
      ],
      "text/plain": [
       "                                 Id  Subject Focus  Eyes  Face  Near  Action  \\\n",
       "0  0007de18844b0dbbb5e1f607da0606e0              0     1     1     1       0   \n",
       "1  0009c66b9439883ba2750fb825e1d7db              0     1     1     0       0   \n",
       "2  0013fd999caf9a3efe1352ca1b0d937e              0     1     1     1       0   \n",
       "3  0018df346ac9c1d8413cfcc888ca8246              0     1     1     1       0   \n",
       "4  001dc955e10590d3ca4673f034feeef2              0     0     0     1       0   \n",
       "\n",
       "   Accessory  Group  Collage  Human  Occlusion  Info  Blur  Pawpularity  \n",
       "0          0      1        0      0          0     0     0           63  \n",
       "1          0      0        0      0          0     0     0           42  \n",
       "2          0      0        0      1          1     0     0           28  \n",
       "3          0      0        0      0          0     0     0           15  \n",
       "4          0      1        0      0          0     0     0           72  "
      ]
     },
     "execution_count": 6,
     "metadata": {},
     "output_type": "execute_result"
    }
   ],
   "source": [
    "train_df.head()"
   ]
  },
  {
   "cell_type": "code",
   "execution_count": 7,
   "id": "519030b3",
   "metadata": {},
   "outputs": [
    {
     "data": {
      "text/html": [
       "<div>\n",
       "<style scoped>\n",
       "    .dataframe tbody tr th:only-of-type {\n",
       "        vertical-align: middle;\n",
       "    }\n",
       "\n",
       "    .dataframe tbody tr th {\n",
       "        vertical-align: top;\n",
       "    }\n",
       "\n",
       "    .dataframe thead th {\n",
       "        text-align: right;\n",
       "    }\n",
       "</style>\n",
       "<table border=\"1\" class=\"dataframe\">\n",
       "  <thead>\n",
       "    <tr style=\"text-align: right;\">\n",
       "      <th></th>\n",
       "      <th>Subject Focus</th>\n",
       "      <th>Eyes</th>\n",
       "      <th>Face</th>\n",
       "      <th>Near</th>\n",
       "      <th>Action</th>\n",
       "      <th>Accessory</th>\n",
       "      <th>Group</th>\n",
       "      <th>Collage</th>\n",
       "      <th>Human</th>\n",
       "      <th>Occlusion</th>\n",
       "      <th>Info</th>\n",
       "      <th>Blur</th>\n",
       "      <th>Pawpularity</th>\n",
       "    </tr>\n",
       "  </thead>\n",
       "  <tbody>\n",
       "    <tr>\n",
       "      <th>count</th>\n",
       "      <td>9912.000000</td>\n",
       "      <td>9912.000000</td>\n",
       "      <td>9912.000000</td>\n",
       "      <td>9912.000000</td>\n",
       "      <td>9912.000000</td>\n",
       "      <td>9912.000000</td>\n",
       "      <td>9912.000000</td>\n",
       "      <td>9912.000000</td>\n",
       "      <td>9912.000000</td>\n",
       "      <td>9912.000000</td>\n",
       "      <td>9912.000000</td>\n",
       "      <td>9912.000000</td>\n",
       "      <td>9912.000000</td>\n",
       "    </tr>\n",
       "    <tr>\n",
       "      <th>mean</th>\n",
       "      <td>0.027643</td>\n",
       "      <td>0.772599</td>\n",
       "      <td>0.903955</td>\n",
       "      <td>0.861582</td>\n",
       "      <td>0.009988</td>\n",
       "      <td>0.067797</td>\n",
       "      <td>0.129338</td>\n",
       "      <td>0.049637</td>\n",
       "      <td>0.166263</td>\n",
       "      <td>0.172014</td>\n",
       "      <td>0.061239</td>\n",
       "      <td>0.070420</td>\n",
       "      <td>38.039044</td>\n",
       "    </tr>\n",
       "    <tr>\n",
       "      <th>std</th>\n",
       "      <td>0.163957</td>\n",
       "      <td>0.419175</td>\n",
       "      <td>0.294668</td>\n",
       "      <td>0.345356</td>\n",
       "      <td>0.099444</td>\n",
       "      <td>0.251409</td>\n",
       "      <td>0.335591</td>\n",
       "      <td>0.217204</td>\n",
       "      <td>0.372335</td>\n",
       "      <td>0.377411</td>\n",
       "      <td>0.239780</td>\n",
       "      <td>0.255866</td>\n",
       "      <td>20.591990</td>\n",
       "    </tr>\n",
       "    <tr>\n",
       "      <th>min</th>\n",
       "      <td>0.000000</td>\n",
       "      <td>0.000000</td>\n",
       "      <td>0.000000</td>\n",
       "      <td>0.000000</td>\n",
       "      <td>0.000000</td>\n",
       "      <td>0.000000</td>\n",
       "      <td>0.000000</td>\n",
       "      <td>0.000000</td>\n",
       "      <td>0.000000</td>\n",
       "      <td>0.000000</td>\n",
       "      <td>0.000000</td>\n",
       "      <td>0.000000</td>\n",
       "      <td>1.000000</td>\n",
       "    </tr>\n",
       "    <tr>\n",
       "      <th>25%</th>\n",
       "      <td>0.000000</td>\n",
       "      <td>1.000000</td>\n",
       "      <td>1.000000</td>\n",
       "      <td>1.000000</td>\n",
       "      <td>0.000000</td>\n",
       "      <td>0.000000</td>\n",
       "      <td>0.000000</td>\n",
       "      <td>0.000000</td>\n",
       "      <td>0.000000</td>\n",
       "      <td>0.000000</td>\n",
       "      <td>0.000000</td>\n",
       "      <td>0.000000</td>\n",
       "      <td>25.000000</td>\n",
       "    </tr>\n",
       "    <tr>\n",
       "      <th>50%</th>\n",
       "      <td>0.000000</td>\n",
       "      <td>1.000000</td>\n",
       "      <td>1.000000</td>\n",
       "      <td>1.000000</td>\n",
       "      <td>0.000000</td>\n",
       "      <td>0.000000</td>\n",
       "      <td>0.000000</td>\n",
       "      <td>0.000000</td>\n",
       "      <td>0.000000</td>\n",
       "      <td>0.000000</td>\n",
       "      <td>0.000000</td>\n",
       "      <td>0.000000</td>\n",
       "      <td>33.000000</td>\n",
       "    </tr>\n",
       "    <tr>\n",
       "      <th>75%</th>\n",
       "      <td>0.000000</td>\n",
       "      <td>1.000000</td>\n",
       "      <td>1.000000</td>\n",
       "      <td>1.000000</td>\n",
       "      <td>0.000000</td>\n",
       "      <td>0.000000</td>\n",
       "      <td>0.000000</td>\n",
       "      <td>0.000000</td>\n",
       "      <td>0.000000</td>\n",
       "      <td>0.000000</td>\n",
       "      <td>0.000000</td>\n",
       "      <td>0.000000</td>\n",
       "      <td>46.000000</td>\n",
       "    </tr>\n",
       "    <tr>\n",
       "      <th>max</th>\n",
       "      <td>1.000000</td>\n",
       "      <td>1.000000</td>\n",
       "      <td>1.000000</td>\n",
       "      <td>1.000000</td>\n",
       "      <td>1.000000</td>\n",
       "      <td>1.000000</td>\n",
       "      <td>1.000000</td>\n",
       "      <td>1.000000</td>\n",
       "      <td>1.000000</td>\n",
       "      <td>1.000000</td>\n",
       "      <td>1.000000</td>\n",
       "      <td>1.000000</td>\n",
       "      <td>100.000000</td>\n",
       "    </tr>\n",
       "  </tbody>\n",
       "</table>\n",
       "</div>"
      ],
      "text/plain": [
       "       Subject Focus         Eyes         Face         Near       Action  \\\n",
       "count    9912.000000  9912.000000  9912.000000  9912.000000  9912.000000   \n",
       "mean        0.027643     0.772599     0.903955     0.861582     0.009988   \n",
       "std         0.163957     0.419175     0.294668     0.345356     0.099444   \n",
       "min         0.000000     0.000000     0.000000     0.000000     0.000000   \n",
       "25%         0.000000     1.000000     1.000000     1.000000     0.000000   \n",
       "50%         0.000000     1.000000     1.000000     1.000000     0.000000   \n",
       "75%         0.000000     1.000000     1.000000     1.000000     0.000000   \n",
       "max         1.000000     1.000000     1.000000     1.000000     1.000000   \n",
       "\n",
       "         Accessory        Group      Collage        Human    Occlusion  \\\n",
       "count  9912.000000  9912.000000  9912.000000  9912.000000  9912.000000   \n",
       "mean      0.067797     0.129338     0.049637     0.166263     0.172014   \n",
       "std       0.251409     0.335591     0.217204     0.372335     0.377411   \n",
       "min       0.000000     0.000000     0.000000     0.000000     0.000000   \n",
       "25%       0.000000     0.000000     0.000000     0.000000     0.000000   \n",
       "50%       0.000000     0.000000     0.000000     0.000000     0.000000   \n",
       "75%       0.000000     0.000000     0.000000     0.000000     0.000000   \n",
       "max       1.000000     1.000000     1.000000     1.000000     1.000000   \n",
       "\n",
       "              Info         Blur  Pawpularity  \n",
       "count  9912.000000  9912.000000  9912.000000  \n",
       "mean      0.061239     0.070420    38.039044  \n",
       "std       0.239780     0.255866    20.591990  \n",
       "min       0.000000     0.000000     1.000000  \n",
       "25%       0.000000     0.000000    25.000000  \n",
       "50%       0.000000     0.000000    33.000000  \n",
       "75%       0.000000     0.000000    46.000000  \n",
       "max       1.000000     1.000000   100.000000  "
      ]
     },
     "execution_count": 7,
     "metadata": {},
     "output_type": "execute_result"
    }
   ],
   "source": [
    "train_df.describe()"
   ]
  },
  {
   "cell_type": "code",
   "execution_count": 8,
   "id": "e403033c",
   "metadata": {},
   "outputs": [
    {
     "name": "stdout",
     "output_type": "stream",
     "text": [
      "<class 'pandas.core.frame.DataFrame'>\n",
      "RangeIndex: 9912 entries, 0 to 9911\n",
      "Data columns (total 14 columns):\n",
      " #   Column         Non-Null Count  Dtype \n",
      "---  ------         --------------  ----- \n",
      " 0   Id             9912 non-null   object\n",
      " 1   Subject Focus  9912 non-null   int64 \n",
      " 2   Eyes           9912 non-null   int64 \n",
      " 3   Face           9912 non-null   int64 \n",
      " 4   Near           9912 non-null   int64 \n",
      " 5   Action         9912 non-null   int64 \n",
      " 6   Accessory      9912 non-null   int64 \n",
      " 7   Group          9912 non-null   int64 \n",
      " 8   Collage        9912 non-null   int64 \n",
      " 9   Human          9912 non-null   int64 \n",
      " 10  Occlusion      9912 non-null   int64 \n",
      " 11  Info           9912 non-null   int64 \n",
      " 12  Blur           9912 non-null   int64 \n",
      " 13  Pawpularity    9912 non-null   int64 \n",
      "dtypes: int64(13), object(1)\n",
      "memory usage: 1.1+ MB\n"
     ]
    }
   ],
   "source": [
    "train_df.info()"
   ]
  },
  {
   "cell_type": "code",
   "execution_count": 9,
   "id": "2f8da4c9",
   "metadata": {},
   "outputs": [
    {
     "data": {
      "image/png": "[encoded data removed]",
      "text/plain": [
       "<Figure size 432x288 with 1 Axes>"
      ]
     },
     "metadata": {
      "needs_background": "light"
     },
     "output_type": "display_data"
    }
   ],
   "source": [
    "plt.hist(train_df['Pawpularity'])\n",
    "plt.show()\n",
    "\n",
    "# Pawpularity 점수를 구간별로 나눈뒤 해당 구간에 Binary 데이터들이\n",
    "# 어떤식으로 분포되어있는지 안다면 예측에 좀더 용이하지 않을까?\n",
    "# A -> 낮은점수와 높은점수간 데이터의 분포가 다르지 않음\n"
   ]
  },
  {
   "cell_type": "code",
   "execution_count": 10,
   "id": "73551b38",
   "metadata": {},
   "outputs": [
    {
     "name": "stderr",
     "output_type": "stream",
     "text": [
      "C:\\ProgramData\\Anaconda3\\lib\\site-packages\\seaborn\\distributions.py:2557: FutureWarning: `distplot` is a deprecated function and will be removed in a future version. Please adapt your code to use either `displot` (a figure-level function with similar flexibility) or `histplot` (an axes-level function for histograms).\n",
      "  warnings.warn(msg, FutureWarning)\n"
     ]
    },
    {
     "data": {
      "text/plain": [
       "<AxesSubplot:xlabel='Pawpularity', ylabel='Density'>"
      ]
     },
     "execution_count": 10,
     "metadata": {},
     "output_type": "execute_result"
    },
    {
     "data": {
      "image/png": "[encoded data removed]",
      "text/plain": [
       "<Figure size 432x288 with 1 Axes>"
      ]
     },
     "metadata": {
      "needs_background": "light"
     },
     "output_type": "display_data"
    }
   ],
   "source": [
    "sns.distplot(train_df['Pawpularity'])\n",
    "# Pawpularity변수는 정규분포로 보임"
   ]
  },
  {
   "cell_type": "markdown",
   "id": "74b91263",
   "metadata": {},
   "source": [
    "높은 점수와 낮은 점수의 차이를 살펴보기 위해  \n",
    "Pawpularty 점수를 0-49(낮음) 50~100(높음)으로 나누어\n",
    "\n",
    "각 구간에 따른 데이터셋의 분포를 살펴보자\n"
   ]
  },
  {
   "cell_type": "code",
   "execution_count": 11,
   "id": "f208370d",
   "metadata": {
    "scrolled": true
   },
   "outputs": [],
   "source": [
    "low_paw = train_df.loc[train_df.Pawpularity<50].iloc[:,1:].sample(1000)\n",
    "high_paw = train_df.loc[(train_df.Pawpularity>=50) & (train_df.Pawpularity <=100)].iloc[:,1:].sample(1000)"
   ]
  },
  {
   "cell_type": "code",
   "execution_count": 12,
   "id": "f7a48b5a",
   "metadata": {
    "scrolled": true
   },
   "outputs": [
    {
     "data": {
      "text/plain": [
       "<AxesSubplot:>"
      ]
     },
     "execution_count": 12,
     "metadata": {},
     "output_type": "execute_result"
    },
    {
     "data": {
      "image/png": "[encoded data removed]",
      "text/plain": [
       "<Figure size 1152x576 with 1 Axes>"
      ]
     },
     "metadata": {
      "needs_background": "light"
     },
     "output_type": "display_data"
    }
   ],
   "source": [
    "low_paw.iloc[:,:-1].sum().plot.bar(figsize=(16,8),fontsize=15)"
   ]
  },
  {
   "cell_type": "code",
   "execution_count": 13,
   "id": "5f712c7a",
   "metadata": {},
   "outputs": [
    {
     "data": {
      "text/plain": [
       "<AxesSubplot:>"
      ]
     },
     "execution_count": 13,
     "metadata": {},
     "output_type": "execute_result"
    },
    {
     "data": {
      "image/png": "[encoded data removed]",
      "text/plain": [
       "<Figure size 1152x576 with 1 Axes>"
      ]
     },
     "metadata": {
      "needs_background": "light"
     },
     "output_type": "display_data"
    }
   ],
   "source": [
    "high_paw.iloc[:,:-1].sum().plot.bar(figsize=(16,8),fontsize=15)"
   ]
  },
  {
   "cell_type": "markdown",
   "id": "42723ee7",
   "metadata": {},
   "source": [
    "현재로써는 Pawpularity 점수와 데이터셋에는 영향이 많이 없어보임\n",
    "\n",
    "독립변수와 종속변수의 상관관계를 확인\n",
    "\n",
    " 이산형 -> 연속형이므로 점이연 상관관계(Point biserial correlation)\n",
    "\n"
   ]
  },
  {
   "cell_type": "code",
   "execution_count": 14,
   "id": "00b7f6ce",
   "metadata": {},
   "outputs": [
    {
     "data": {
      "text/plain": [
       "PointbiserialrResult(correlation=0.05718473222557974, pvalue=0.07067539132899162)"
      ]
     },
     "execution_count": 14,
     "metadata": {},
     "output_type": "execute_result"
    }
   ],
   "source": [
    "#pvalue가  .05보다 작을경우 통계적으로 유의, 클경우 유의하지 않음\n",
    "stats.pointbiserialr(low_paw.iloc[:,1],low_paw.iloc[:,-1])"
   ]
  },
  {
   "cell_type": "code",
   "execution_count": 16,
   "id": "9f39fa55",
   "metadata": {},
   "outputs": [],
   "source": [
    "temp = train_df.iloc[:,1:]"
   ]
  },
  {
   "cell_type": "code",
   "execution_count": 61,
   "id": "5abbb934",
   "metadata": {
    "scrolled": true
   },
   "outputs": [
    {
     "data": {
      "text/html": [
       "<div>\n",
       "<style scoped>\n",
       "    .dataframe tbody tr th:only-of-type {\n",
       "        vertical-align: middle;\n",
       "    }\n",
       "\n",
       "    .dataframe tbody tr th {\n",
       "        vertical-align: top;\n",
       "    }\n",
       "\n",
       "    .dataframe thead th {\n",
       "        text-align: right;\n",
       "    }\n",
       "</style>\n",
       "<table border=\"1\" class=\"dataframe\">\n",
       "  <thead>\n",
       "    <tr style=\"text-align: right;\">\n",
       "      <th></th>\n",
       "      <th>Pawpularity</th>\n",
       "      <th>P_value</th>\n",
       "    </tr>\n",
       "  </thead>\n",
       "  <tbody>\n",
       "    <tr>\n",
       "      <th>Group</th>\n",
       "      <td>0.016469</td>\n",
       "      <td>유의하지 않음</td>\n",
       "    </tr>\n",
       "    <tr>\n",
       "      <th>Accessory</th>\n",
       "      <td>0.013287</td>\n",
       "      <td>유의하지 않음</td>\n",
       "    </tr>\n",
       "    <tr>\n",
       "      <th>Face</th>\n",
       "      <td>0.008018</td>\n",
       "      <td>유의하지 않음</td>\n",
       "    </tr>\n",
       "    <tr>\n",
       "      <th>Human</th>\n",
       "      <td>0.003983</td>\n",
       "      <td>유의하지 않음</td>\n",
       "    </tr>\n",
       "    <tr>\n",
       "      <th>Occlusion</th>\n",
       "      <td>0.001979</td>\n",
       "      <td>유의하지 않음</td>\n",
       "    </tr>\n",
       "    <tr>\n",
       "      <th>Collage</th>\n",
       "      <td>0.001732</td>\n",
       "      <td>유의하지 않음</td>\n",
       "    </tr>\n",
       "    <tr>\n",
       "      <th>Near</th>\n",
       "      <td>0.001001</td>\n",
       "      <td>유의하지 않음</td>\n",
       "    </tr>\n",
       "    <tr>\n",
       "      <th>Action</th>\n",
       "      <td>-0.001373</td>\n",
       "      <td>유의하지 않음</td>\n",
       "    </tr>\n",
       "    <tr>\n",
       "      <th>Info</th>\n",
       "      <td>-0.004735</td>\n",
       "      <td>유의하지 않음</td>\n",
       "    </tr>\n",
       "    <tr>\n",
       "      <th>Eyes</th>\n",
       "      <td>-0.006686</td>\n",
       "      <td>유의하지 않음</td>\n",
       "    </tr>\n",
       "    <tr>\n",
       "      <th>Subject Focus</th>\n",
       "      <td>-0.009853</td>\n",
       "      <td>유의하지 않음</td>\n",
       "    </tr>\n",
       "    <tr>\n",
       "      <th>Blur</th>\n",
       "      <td>-0.023540</td>\n",
       "      <td>유의</td>\n",
       "    </tr>\n",
       "  </tbody>\n",
       "</table>\n",
       "</div>"
      ],
      "text/plain": [
       "               Pawpularity  P_value\n",
       "Group             0.016469  유의하지 않음\n",
       "Accessory         0.013287  유의하지 않음\n",
       "Face              0.008018  유의하지 않음\n",
       "Human             0.003983  유의하지 않음\n",
       "Occlusion         0.001979  유의하지 않음\n",
       "Collage           0.001732  유의하지 않음\n",
       "Near              0.001001  유의하지 않음\n",
       "Action           -0.001373  유의하지 않음\n",
       "Info             -0.004735  유의하지 않음\n",
       "Eyes             -0.006686  유의하지 않음\n",
       "Subject Focus    -0.009853  유의하지 않음\n",
       "Blur             -0.023540       유의"
      ]
     },
     "execution_count": 61,
     "metadata": {},
     "output_type": "execute_result"
    }
   ],
   "source": [
    "corr_list=[]\n",
    "p_value =[]\n",
    "for columns in temp.iloc[:,:-1]:\n",
    "    x = temp[columns]\n",
    "    corr = stats.pointbiserialr(list(x),list(temp['Pawpularity']))\n",
    "    if corr[1] < 0.05:\n",
    "        p_value.append('유의')\n",
    "    else : \n",
    "        p_value.append('유의하지 않음')\n",
    "    corr_list.append(corr[0])\n",
    "    \n",
    "point_corr = pd.DataFrame({'Pawpularity' : corr_list, 'P_value' : p_value}).set_index(temp.iloc[:,:-1].columns)\n",
    "point_corr.sort_values(by=['Pawpularity'],axis=0,ascending=False)"
   ]
  },
  {
   "cell_type": "markdown",
   "id": "7269118d",
   "metadata": {},
   "source": [
    "통계적으로도 유의하지 않으며, 이렇다할 상관관계도 보이지 않음\n",
    "\n",
    "높은점수와 낮은점수에서의 상관관계는?"
   ]
  },
  {
   "cell_type": "code",
   "execution_count": 62,
   "id": "e905159d",
   "metadata": {},
   "outputs": [
    {
     "data": {
      "text/html": [
       "<div>\n",
       "<style scoped>\n",
       "    .dataframe tbody tr th:only-of-type {\n",
       "        vertical-align: middle;\n",
       "    }\n",
       "\n",
       "    .dataframe tbody tr th {\n",
       "        vertical-align: top;\n",
       "    }\n",
       "\n",
       "    .dataframe thead th {\n",
       "        text-align: right;\n",
       "    }\n",
       "</style>\n",
       "<table border=\"1\" class=\"dataframe\">\n",
       "  <thead>\n",
       "    <tr style=\"text-align: right;\">\n",
       "      <th></th>\n",
       "      <th>Pawpularity</th>\n",
       "      <th>P_value</th>\n",
       "    </tr>\n",
       "  </thead>\n",
       "  <tbody>\n",
       "    <tr>\n",
       "      <th>Near</th>\n",
       "      <td>0.040242</td>\n",
       "      <td>유의하지 않음</td>\n",
       "    </tr>\n",
       "    <tr>\n",
       "      <th>Action</th>\n",
       "      <td>0.031567</td>\n",
       "      <td>유의하지 않음</td>\n",
       "    </tr>\n",
       "    <tr>\n",
       "      <th>Collage</th>\n",
       "      <td>0.027960</td>\n",
       "      <td>유의하지 않음</td>\n",
       "    </tr>\n",
       "    <tr>\n",
       "      <th>Accessory</th>\n",
       "      <td>0.017104</td>\n",
       "      <td>유의하지 않음</td>\n",
       "    </tr>\n",
       "    <tr>\n",
       "      <th>Blur</th>\n",
       "      <td>0.014990</td>\n",
       "      <td>유의하지 않음</td>\n",
       "    </tr>\n",
       "    <tr>\n",
       "      <th>Human</th>\n",
       "      <td>0.008588</td>\n",
       "      <td>유의하지 않음</td>\n",
       "    </tr>\n",
       "    <tr>\n",
       "      <th>Occlusion</th>\n",
       "      <td>-0.010947</td>\n",
       "      <td>유의하지 않음</td>\n",
       "    </tr>\n",
       "    <tr>\n",
       "      <th>Info</th>\n",
       "      <td>-0.017008</td>\n",
       "      <td>유의하지 않음</td>\n",
       "    </tr>\n",
       "    <tr>\n",
       "      <th>Subject Focus</th>\n",
       "      <td>-0.018194</td>\n",
       "      <td>유의하지 않음</td>\n",
       "    </tr>\n",
       "    <tr>\n",
       "      <th>Group</th>\n",
       "      <td>-0.018312</td>\n",
       "      <td>유의하지 않음</td>\n",
       "    </tr>\n",
       "    <tr>\n",
       "      <th>Face</th>\n",
       "      <td>-0.019393</td>\n",
       "      <td>유의하지 않음</td>\n",
       "    </tr>\n",
       "    <tr>\n",
       "      <th>Eyes</th>\n",
       "      <td>-0.059293</td>\n",
       "      <td>유의하지 않음</td>\n",
       "    </tr>\n",
       "  </tbody>\n",
       "</table>\n",
       "</div>"
      ],
      "text/plain": [
       "               Pawpularity  P_value\n",
       "Near              0.040242  유의하지 않음\n",
       "Action            0.031567  유의하지 않음\n",
       "Collage           0.027960  유의하지 않음\n",
       "Accessory         0.017104  유의하지 않음\n",
       "Blur              0.014990  유의하지 않음\n",
       "Human             0.008588  유의하지 않음\n",
       "Occlusion        -0.010947  유의하지 않음\n",
       "Info             -0.017008  유의하지 않음\n",
       "Subject Focus    -0.018194  유의하지 않음\n",
       "Group            -0.018312  유의하지 않음\n",
       "Face             -0.019393  유의하지 않음\n",
       "Eyes             -0.059293  유의하지 않음"
      ]
     },
     "execution_count": 62,
     "metadata": {},
     "output_type": "execute_result"
    }
   ],
   "source": [
    "corr_list=[]\n",
    "p_value =[]\n",
    "for columns in high_paw.iloc[:,:-1]:\n",
    "    x = high_paw[columns]\n",
    "    corr = stats.pointbiserialr(list(x),list(high_paw['Pawpularity']))\n",
    "    if corr[1] < 0.05:\n",
    "        p_value.append('유의')\n",
    "    else : \n",
    "        p_value.append('유의하지 않음')\n",
    "    corr_list.append(corr[0])\n",
    "    \n",
    "point_corr = pd.DataFrame({'Pawpularity' : corr_list, 'P_value' : p_value}).set_index(high_paw.iloc[:,:-1].columns)\n",
    "point_corr.sort_values(by=['Pawpularity'],axis=0,ascending=False)"
   ]
  },
  {
   "cell_type": "code",
   "execution_count": 63,
   "id": "291db064",
   "metadata": {},
   "outputs": [
    {
     "data": {
      "text/html": [
       "<div>\n",
       "<style scoped>\n",
       "    .dataframe tbody tr th:only-of-type {\n",
       "        vertical-align: middle;\n",
       "    }\n",
       "\n",
       "    .dataframe tbody tr th {\n",
       "        vertical-align: top;\n",
       "    }\n",
       "\n",
       "    .dataframe thead th {\n",
       "        text-align: right;\n",
       "    }\n",
       "</style>\n",
       "<table border=\"1\" class=\"dataframe\">\n",
       "  <thead>\n",
       "    <tr style=\"text-align: right;\">\n",
       "      <th></th>\n",
       "      <th>Pawpularity</th>\n",
       "      <th>P_value</th>\n",
       "    </tr>\n",
       "  </thead>\n",
       "  <tbody>\n",
       "    <tr>\n",
       "      <th>Occlusion</th>\n",
       "      <td>0.087368</td>\n",
       "      <td>유의</td>\n",
       "    </tr>\n",
       "    <tr>\n",
       "      <th>Eyes</th>\n",
       "      <td>0.057185</td>\n",
       "      <td>유의하지 않음</td>\n",
       "    </tr>\n",
       "    <tr>\n",
       "      <th>Collage</th>\n",
       "      <td>0.042457</td>\n",
       "      <td>유의하지 않음</td>\n",
       "    </tr>\n",
       "    <tr>\n",
       "      <th>Human</th>\n",
       "      <td>0.037124</td>\n",
       "      <td>유의하지 않음</td>\n",
       "    </tr>\n",
       "    <tr>\n",
       "      <th>Info</th>\n",
       "      <td>0.024326</td>\n",
       "      <td>유의하지 않음</td>\n",
       "    </tr>\n",
       "    <tr>\n",
       "      <th>Face</th>\n",
       "      <td>0.012777</td>\n",
       "      <td>유의하지 않음</td>\n",
       "    </tr>\n",
       "    <tr>\n",
       "      <th>Group</th>\n",
       "      <td>0.011981</td>\n",
       "      <td>유의하지 않음</td>\n",
       "    </tr>\n",
       "    <tr>\n",
       "      <th>Accessory</th>\n",
       "      <td>0.000504</td>\n",
       "      <td>유의하지 않음</td>\n",
       "    </tr>\n",
       "    <tr>\n",
       "      <th>Action</th>\n",
       "      <td>-0.000456</td>\n",
       "      <td>유의하지 않음</td>\n",
       "    </tr>\n",
       "    <tr>\n",
       "      <th>Blur</th>\n",
       "      <td>-0.007367</td>\n",
       "      <td>유의하지 않음</td>\n",
       "    </tr>\n",
       "    <tr>\n",
       "      <th>Subject Focus</th>\n",
       "      <td>-0.007756</td>\n",
       "      <td>유의하지 않음</td>\n",
       "    </tr>\n",
       "    <tr>\n",
       "      <th>Near</th>\n",
       "      <td>-0.045289</td>\n",
       "      <td>유의하지 않음</td>\n",
       "    </tr>\n",
       "  </tbody>\n",
       "</table>\n",
       "</div>"
      ],
      "text/plain": [
       "               Pawpularity  P_value\n",
       "Occlusion         0.087368       유의\n",
       "Eyes              0.057185  유의하지 않음\n",
       "Collage           0.042457  유의하지 않음\n",
       "Human             0.037124  유의하지 않음\n",
       "Info              0.024326  유의하지 않음\n",
       "Face              0.012777  유의하지 않음\n",
       "Group             0.011981  유의하지 않음\n",
       "Accessory         0.000504  유의하지 않음\n",
       "Action           -0.000456  유의하지 않음\n",
       "Blur             -0.007367  유의하지 않음\n",
       "Subject Focus    -0.007756  유의하지 않음\n",
       "Near             -0.045289  유의하지 않음"
      ]
     },
     "execution_count": 63,
     "metadata": {},
     "output_type": "execute_result"
    }
   ],
   "source": [
    "corr_list=[]\n",
    "p_value =[]\n",
    "for columns in low_paw.iloc[:,:-1]:\n",
    "    x = low_paw[columns]\n",
    "    corr = stats.pointbiserialr(list(x),list(low_paw['Pawpularity']))\n",
    "    if corr[1] < 0.05:\n",
    "        p_value.append('유의')\n",
    "    else : \n",
    "        p_value.append('유의하지 않음')\n",
    "    corr_list.append(corr[0])\n",
    "    \n",
    "point_corr = pd.DataFrame({'Pawpularity' : corr_list, 'P_value' : p_value}).set_index(low_paw.iloc[:,:-1].columns)\n",
    "point_corr.sort_values(by=['Pawpularity'],axis=0,ascending=False)"
   ]
  },
  {
   "cell_type": "markdown",
   "id": "2493a428",
   "metadata": {},
   "source": [
    "역시나 이렇다할 상관관계는 보이지 않는다\n",
    "\n",
    "컬럼만으로 정확한 점수를 예측하는것에는 무리가 있어보이나\n",
    "\n",
    "일단 예측을 시도해보자"
   ]
  },
  {
   "cell_type": "code",
   "execution_count": 75,
   "id": "ca998110",
   "metadata": {
    "scrolled": true
   },
   "outputs": [
    {
     "name": "stdout",
     "output_type": "stream",
     "text": [
      "best param :  {'colsample_bytree': 1, 'eval_metric': 'rmse', 'learning_rate': 0.05, 'max_depth': 5, 'min_child_weight': 4, 'subsample': 1}\n",
      "best score :  -20.572131172424232\n"
     ]
    }
   ],
   "source": [
    "x,y = temp.iloc[:,:-1], temp.Pawpularity\n",
    "dmatrix = xgb.DMatrix(data = x, label = y)\n",
    "\n",
    "X_train,X_test, y_train, y_test = train_test_split(x,y,test_size=0.2, random_state=411)\n",
    "\n",
    "xgr = xgb.XGBRegressor()\n",
    "\n",
    "params = {\n",
    "         'learning_rate' : [.03,0.05,.07],\n",
    "         'max_depth': [5,6,7],\n",
    "         'min_child_weight' :[4],\n",
    "         'subsample' : [1],\n",
    "         'colsample_bytree' : [1],\n",
    "         'eval_metric' : ['rmse']}\n",
    "grid = GridSearchCV(xgr,param_grid = params, cv=3,scoring='neg_root_mean_squared_error')\n",
    "grid.fit(X_train,y_train)\n",
    "\n",
    "print('best param : ', grid.best_params_)\n",
    "print('best score : ', grid.best_score_)\n",
    "estimator = grid.best_estimator_\n",
    "predict = estimator.predict(X_test)\n"
   ]
  },
  {
   "cell_type": "code",
   "execution_count": 43,
   "id": "71d79755",
   "metadata": {
    "scrolled": true
   },
   "outputs": [
    {
     "data": {
      "text/plain": [
       "array([39.0342  , 37.564137, 63.37477 , 33.7519  , 17.69668 , 57.854275,\n",
       "       25.512817, 38.474003], dtype=float32)"
      ]
     },
     "execution_count": 43,
     "metadata": {},
     "output_type": "execute_result"
    }
   ],
   "source": [
    "estimator.predict(test_df.iloc[:,1:])"
   ]
  },
  {
   "cell_type": "code",
   "execution_count": 45,
   "id": "4f9f54dd",
   "metadata": {},
   "outputs": [],
   "source": [
    "sub_df = pd.DataFrame()\n",
    "sub_df['Id'] = test_df['Id']\n",
    "sub_df['Petpularity'] = estimator.predict(test_df.iloc[:,1:])\n",
    "sub_df.head()\n",
    "sub_df.to_csv('./sub_mission/1.csv')"
   ]
  },
  {
   "cell_type": "code",
   "execution_count": 48,
   "id": "17076252",
   "metadata": {},
   "outputs": [
    {
     "data": {
      "text/plain": [
       "array([39.0342  , 37.564137, 63.37477 , 33.7519  , 17.69668 , 57.854275,\n",
       "       25.512817, 38.474003], dtype=float32)"
      ]
     },
     "execution_count": 48,
     "metadata": {},
     "output_type": "execute_result"
    }
   ],
   "source": [
    "estimator.predict(test_df.iloc[:,1:])"
   ]
  },
  {
   "cell_type": "code",
   "execution_count": 49,
   "id": "ccce4944",
   "metadata": {},
   "outputs": [
    {
     "data": {
      "text/html": [
       "<div>\n",
       "<style scoped>\n",
       "    .dataframe tbody tr th:only-of-type {\n",
       "        vertical-align: middle;\n",
       "    }\n",
       "\n",
       "    .dataframe tbody tr th {\n",
       "        vertical-align: top;\n",
       "    }\n",
       "\n",
       "    .dataframe thead th {\n",
       "        text-align: right;\n",
       "    }\n",
       "</style>\n",
       "<table border=\"1\" class=\"dataframe\">\n",
       "  <thead>\n",
       "    <tr style=\"text-align: right;\">\n",
       "      <th></th>\n",
       "      <th>Id</th>\n",
       "      <th>Petpularity</th>\n",
       "    </tr>\n",
       "  </thead>\n",
       "  <tbody>\n",
       "    <tr>\n",
       "      <th>0</th>\n",
       "      <td>4128bae22183829d2b5fea10effdb0c3</td>\n",
       "      <td>39.034199</td>\n",
       "    </tr>\n",
       "    <tr>\n",
       "      <th>1</th>\n",
       "      <td>43a2262d7738e3d420d453815151079e</td>\n",
       "      <td>37.564137</td>\n",
       "    </tr>\n",
       "    <tr>\n",
       "      <th>2</th>\n",
       "      <td>4e429cead1848a298432a0acad014c9d</td>\n",
       "      <td>63.374771</td>\n",
       "    </tr>\n",
       "    <tr>\n",
       "      <th>3</th>\n",
       "      <td>80bc3ccafcc51b66303c2c263aa38486</td>\n",
       "      <td>33.751900</td>\n",
       "    </tr>\n",
       "    <tr>\n",
       "      <th>4</th>\n",
       "      <td>8f49844c382931444e68dffbe20228f4</td>\n",
       "      <td>17.696680</td>\n",
       "    </tr>\n",
       "    <tr>\n",
       "      <th>5</th>\n",
       "      <td>b03f7041962238a7c9d6537e22f9b017</td>\n",
       "      <td>57.854275</td>\n",
       "    </tr>\n",
       "    <tr>\n",
       "      <th>6</th>\n",
       "      <td>c978013571258ed6d4637f6e8cc9d6a3</td>\n",
       "      <td>25.512817</td>\n",
       "    </tr>\n",
       "    <tr>\n",
       "      <th>7</th>\n",
       "      <td>e0de453c1bffc20c22b072b34b54e50f</td>\n",
       "      <td>38.474003</td>\n",
       "    </tr>\n",
       "  </tbody>\n",
       "</table>\n",
       "</div>"
      ],
      "text/plain": [
       "                                 Id  Petpularity\n",
       "0  4128bae22183829d2b5fea10effdb0c3    39.034199\n",
       "1  43a2262d7738e3d420d453815151079e    37.564137\n",
       "2  4e429cead1848a298432a0acad014c9d    63.374771\n",
       "3  80bc3ccafcc51b66303c2c263aa38486    33.751900\n",
       "4  8f49844c382931444e68dffbe20228f4    17.696680\n",
       "5  b03f7041962238a7c9d6537e22f9b017    57.854275\n",
       "6  c978013571258ed6d4637f6e8cc9d6a3    25.512817\n",
       "7  e0de453c1bffc20c22b072b34b54e50f    38.474003"
      ]
     },
     "execution_count": 49,
     "metadata": {},
     "output_type": "execute_result"
    }
   ],
   "source": [
    "sub_df"
   ]
  },
  {
   "cell_type": "code",
   "execution_count": 60,
   "id": "7deb9e81",
   "metadata": {
    "scrolled": true
   },
   "outputs": [
    {
     "data": {
      "text/plain": [
       "20.953842886463967"
      ]
     },
     "execution_count": 60,
     "metadata": {},
     "output_type": "execute_result"
    }
   ],
   "source": [
    "mean_squared_error(y_test,predict)**0.5"
   ]
  },
  {
   "cell_type": "code",
   "execution_count": 73,
   "id": "e9df8db2",
   "metadata": {
    "scrolled": true
   },
   "outputs": [
    {
     "name": "stderr",
     "output_type": "stream",
     "text": [
      "C:\\ProgramData\\Anaconda3\\lib\\site-packages\\lightgbm\\engine.py:148: UserWarning: Found `num_iterations` in params. Will use it instead of argument\n",
      "  _log_warning(\"Found `{}` in params. Will use it instead of argument\".format(alias))\n",
      "C:\\ProgramData\\Anaconda3\\lib\\site-packages\\lightgbm\\engine.py:148: UserWarning: Found `num_iterations` in params. Will use it instead of argument\n",
      "  _log_warning(\"Found `{}` in params. Will use it instead of argument\".format(alias))\n",
      "C:\\ProgramData\\Anaconda3\\lib\\site-packages\\lightgbm\\engine.py:148: UserWarning: Found `num_iterations` in params. Will use it instead of argument\n",
      "  _log_warning(\"Found `{}` in params. Will use it instead of argument\".format(alias))\n",
      "C:\\ProgramData\\Anaconda3\\lib\\site-packages\\lightgbm\\engine.py:148: UserWarning: Found `num_iterations` in params. Will use it instead of argument\n",
      "  _log_warning(\"Found `{}` in params. Will use it instead of argument\".format(alias))\n",
      "C:\\ProgramData\\Anaconda3\\lib\\site-packages\\lightgbm\\engine.py:148: UserWarning: Found `num_iterations` in params. Will use it instead of argument\n",
      "  _log_warning(\"Found `{}` in params. Will use it instead of argument\".format(alias))\n",
      "C:\\ProgramData\\Anaconda3\\lib\\site-packages\\lightgbm\\engine.py:148: UserWarning: Found `num_iterations` in params. Will use it instead of argument\n",
      "  _log_warning(\"Found `{}` in params. Will use it instead of argument\".format(alias))\n",
      "C:\\ProgramData\\Anaconda3\\lib\\site-packages\\lightgbm\\engine.py:148: UserWarning: Found `num_iterations` in params. Will use it instead of argument\n",
      "  _log_warning(\"Found `{}` in params. Will use it instead of argument\".format(alias))\n",
      "C:\\ProgramData\\Anaconda3\\lib\\site-packages\\lightgbm\\engine.py:148: UserWarning: Found `num_iterations` in params. Will use it instead of argument\n",
      "  _log_warning(\"Found `{}` in params. Will use it instead of argument\".format(alias))\n",
      "C:\\ProgramData\\Anaconda3\\lib\\site-packages\\lightgbm\\engine.py:148: UserWarning: Found `num_iterations` in params. Will use it instead of argument\n",
      "  _log_warning(\"Found `{}` in params. Will use it instead of argument\".format(alias))\n",
      "C:\\ProgramData\\Anaconda3\\lib\\site-packages\\lightgbm\\engine.py:148: UserWarning: Found `num_iterations` in params. Will use it instead of argument\n",
      "  _log_warning(\"Found `{}` in params. Will use it instead of argument\".format(alias))\n",
      "C:\\ProgramData\\Anaconda3\\lib\\site-packages\\lightgbm\\engine.py:148: UserWarning: Found `num_iterations` in params. Will use it instead of argument\n",
      "  _log_warning(\"Found `{}` in params. Will use it instead of argument\".format(alias))\n",
      "C:\\ProgramData\\Anaconda3\\lib\\site-packages\\lightgbm\\engine.py:148: UserWarning: Found `num_iterations` in params. Will use it instead of argument\n",
      "  _log_warning(\"Found `{}` in params. Will use it instead of argument\".format(alias))\n",
      "C:\\ProgramData\\Anaconda3\\lib\\site-packages\\lightgbm\\engine.py:148: UserWarning: Found `num_iterations` in params. Will use it instead of argument\n",
      "  _log_warning(\"Found `{}` in params. Will use it instead of argument\".format(alias))\n",
      "C:\\ProgramData\\Anaconda3\\lib\\site-packages\\lightgbm\\engine.py:148: UserWarning: Found `num_iterations` in params. Will use it instead of argument\n",
      "  _log_warning(\"Found `{}` in params. Will use it instead of argument\".format(alias))\n",
      "C:\\ProgramData\\Anaconda3\\lib\\site-packages\\lightgbm\\engine.py:148: UserWarning: Found `num_iterations` in params. Will use it instead of argument\n",
      "  _log_warning(\"Found `{}` in params. Will use it instead of argument\".format(alias))\n",
      "C:\\ProgramData\\Anaconda3\\lib\\site-packages\\lightgbm\\engine.py:148: UserWarning: Found `num_iterations` in params. Will use it instead of argument\n",
      "  _log_warning(\"Found `{}` in params. Will use it instead of argument\".format(alias))\n",
      "C:\\ProgramData\\Anaconda3\\lib\\site-packages\\lightgbm\\engine.py:148: UserWarning: Found `num_iterations` in params. Will use it instead of argument\n",
      "  _log_warning(\"Found `{}` in params. Will use it instead of argument\".format(alias))\n",
      "C:\\ProgramData\\Anaconda3\\lib\\site-packages\\lightgbm\\engine.py:148: UserWarning: Found `num_iterations` in params. Will use it instead of argument\n",
      "  _log_warning(\"Found `{}` in params. Will use it instead of argument\".format(alias))\n",
      "C:\\ProgramData\\Anaconda3\\lib\\site-packages\\lightgbm\\engine.py:148: UserWarning: Found `num_iterations` in params. Will use it instead of argument\n",
      "  _log_warning(\"Found `{}` in params. Will use it instead of argument\".format(alias))\n",
      "C:\\ProgramData\\Anaconda3\\lib\\site-packages\\lightgbm\\engine.py:148: UserWarning: Found `num_iterations` in params. Will use it instead of argument\n",
      "  _log_warning(\"Found `{}` in params. Will use it instead of argument\".format(alias))\n",
      "C:\\ProgramData\\Anaconda3\\lib\\site-packages\\lightgbm\\engine.py:148: UserWarning: Found `num_iterations` in params. Will use it instead of argument\n",
      "  _log_warning(\"Found `{}` in params. Will use it instead of argument\".format(alias))\n",
      "C:\\ProgramData\\Anaconda3\\lib\\site-packages\\lightgbm\\engine.py:148: UserWarning: Found `num_iterations` in params. Will use it instead of argument\n",
      "  _log_warning(\"Found `{}` in params. Will use it instead of argument\".format(alias))\n",
      "C:\\ProgramData\\Anaconda3\\lib\\site-packages\\lightgbm\\engine.py:148: UserWarning: Found `num_iterations` in params. Will use it instead of argument\n",
      "  _log_warning(\"Found `{}` in params. Will use it instead of argument\".format(alias))\n",
      "C:\\ProgramData\\Anaconda3\\lib\\site-packages\\lightgbm\\engine.py:148: UserWarning: Found `num_iterations` in params. Will use it instead of argument\n",
      "  _log_warning(\"Found `{}` in params. Will use it instead of argument\".format(alias))\n",
      "C:\\ProgramData\\Anaconda3\\lib\\site-packages\\lightgbm\\engine.py:148: UserWarning: Found `num_iterations` in params. Will use it instead of argument\n",
      "  _log_warning(\"Found `{}` in params. Will use it instead of argument\".format(alias))\n",
      "C:\\ProgramData\\Anaconda3\\lib\\site-packages\\lightgbm\\engine.py:148: UserWarning: Found `num_iterations` in params. Will use it instead of argument\n",
      "  _log_warning(\"Found `{}` in params. Will use it instead of argument\".format(alias))\n",
      "C:\\ProgramData\\Anaconda3\\lib\\site-packages\\lightgbm\\engine.py:148: UserWarning: Found `num_iterations` in params. Will use it instead of argument\n",
      "  _log_warning(\"Found `{}` in params. Will use it instead of argument\".format(alias))\n",
      "C:\\ProgramData\\Anaconda3\\lib\\site-packages\\lightgbm\\engine.py:148: UserWarning: Found `num_iterations` in params. Will use it instead of argument\n",
      "  _log_warning(\"Found `{}` in params. Will use it instead of argument\".format(alias))\n"
     ]
    },
    {
     "name": "stdout",
     "output_type": "stream",
     "text": [
      "best param :  {'boosting_type': 'dart', 'colsample_bytree': 0.7, 'learning_rate': 0.05, 'max_depth': 5, 'metric': 'rmse', 'min_child_weight': 4, 'num_iterations': 1000}\n",
      "best score :  -20.57207448531338\n"
     ]
    }
   ],
   "source": [
    "x,y = temp.iloc[:,:-1], temp.Pawpularity\n",
    "\n",
    "X_train,X_test, y_train, y_test = train_test_split(x,y,test_size=0.2, random_state=411)\n",
    "\n",
    "gbm = lgb.LGBMRegressor()\n",
    "\n",
    "params ={'learning_rate' : [.03,0.05,.07],\n",
    "        'num_iterations' : [1000],\n",
    "        'max_depth' : [5,6,7],\n",
    "        'colsample_bytree' : [0.7],\n",
    "        'boosting_type' : ['dart'],\n",
    "        'metric' : ['regression_l2'],\n",
    "        'min_child_weight' :[4],\n",
    "        'metric' : ['rmse']}\n",
    "grid = GridSearchCV(gbm,param_grid = params, cv=3,scoring='neg_root_mean_squared_error')\n",
    "grid.fit(X_train,y_train)\n",
    "\n",
    "print('best param : ', grid.best_params_)\n",
    "print('best score : ', grid.best_score_)\n",
    "estimator = grid.best_estimator_\n",
    "predict = estimator.predict(X_test)"
   ]
  },
  {
   "cell_type": "code",
   "execution_count": 74,
   "id": "972fec9f",
   "metadata": {},
   "outputs": [
    {
     "data": {
      "text/plain": [
       "20.947771891350307"
      ]
     },
     "execution_count": 74,
     "metadata": {},
     "output_type": "execute_result"
    }
   ],
   "source": [
    "mean_squared_error(y_test,predict)**0.5"
   ]
  },
  {
   "cell_type": "markdown",
   "id": "25ec1ec2",
   "metadata": {},
   "source": [
    "컬럼데이터만으로 예측하기에는 무리가 있음 2021-10-04 기준 415등\n",
    "\n",
    "사진데이터 + 컬럼데이터 예측을 해보자"
   ]
  },
  {
   "cell_type": "code",
   "execution_count": null,
   "id": "82eb7af1",
   "metadata": {},
   "outputs": [],
   "source": []
  }
 ],
 "metadata": {
  "kernelspec": {
   "display_name": "Python 3",
   "language": "python",
   "name": "python3"
  },
  "language_info": {
   "codemirror_mode": {
    "name": "ipython",
    "version": 3
   },
   "file_extension": ".py",
   "mimetype": "text/x-python",
   "name": "python",
   "nbconvert_exporter": "python",
   "pygments_lexer": "ipython3",
   "version": "3.8.8"
  }
 },
 "nbformat": 4,
 "nbformat_minor": 5
}
