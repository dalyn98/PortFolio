{
 "cells": [
  {
   "cell_type": "markdown",
   "id": "e6c79373",
   "metadata": {},
   "source": [
    "# PetFinder.my - Pawpularity Contest\n",
    "Date : 2021/09/23 ~ 2022/01/22\n",
    "\n",
    "Start date : 2021/10/01 \n",
    "\n",
    "Data : ID를 포함한 13개의 컬럼, 사진 메타데이터, 사진데이터\n",
    "\n",
    "Metric : RMSE(평균제곱근오차)\n",
    "\n",
    "Questions Type : 예측(Prediction)"
   ]
  },
  {
   "cell_type": "markdown",
   "id": "94831244",
   "metadata": {},
   "source": [
    "# Exploring\n",
    "\n",
    "1. 사진을 제외한 데이터들을 이용하여 예측.\n",
    "2. 사진과 데이터들을 같이 포함하여 예측.\n",
    "3. 사진만 이용하여 예측\n",
    "\n",
    "1 :변수끼리의 관계를 중점적으로 확인\n",
    "\n",
    "2 : 사진안에 어떠한 부분이 Pawpularity 점수에 \n",
    "\n",
    "유의미한 영향을 끼치는지 확인(LIME)\n",
    "\n",
    "-> 2DCNN 등등 \n",
    "\n",
    "핵심 : 사진과 Binary 데이터들을 어떤식으로 조합하여 예측에 사용할지"
   ]
  },
  {
   "cell_type": "markdown",
   "id": "bce7ecae",
   "metadata": {},
   "source": [
    "# Exploratory Data Analysis"
   ]
  },
  {
   "cell_type": "code",
   "execution_count": 81,
   "id": "2c94b3e3",
   "metadata": {},
   "outputs": [],
   "source": [
    "import pandas as pd\n",
    "import matplotlib.pyplot as plt\n",
    "import seaborn as sns\n",
    "import scipy.stats as stats"
   ]
  },
  {
   "cell_type": "code",
   "execution_count": 168,
   "id": "a0a39ad5",
   "metadata": {},
   "outputs": [],
   "source": [
    "\n",
    "test_df = pd.read_csv('test.csv')\n",
    "train_df = pd.read_csv('train.csv')"
   ]
  },
  {
   "cell_type": "code",
   "execution_count": 26,
   "id": "657ecbe1",
   "metadata": {},
   "outputs": [
    {
     "data": {
      "text/html": [
       "<div>\n",
       "<style scoped>\n",
       "    .dataframe tbody tr th:only-of-type {\n",
       "        vertical-align: middle;\n",
       "    }\n",
       "\n",
       "    .dataframe tbody tr th {\n",
       "        vertical-align: top;\n",
       "    }\n",
       "\n",
       "    .dataframe thead th {\n",
       "        text-align: right;\n",
       "    }\n",
       "</style>\n",
       "<table border=\"1\" class=\"dataframe\">\n",
       "  <thead>\n",
       "    <tr style=\"text-align: right;\">\n",
       "      <th></th>\n",
       "      <th>Id</th>\n",
       "      <th>Subject Focus</th>\n",
       "      <th>Eyes</th>\n",
       "      <th>Face</th>\n",
       "      <th>Near</th>\n",
       "      <th>Action</th>\n",
       "      <th>Accessory</th>\n",
       "      <th>Group</th>\n",
       "      <th>Collage</th>\n",
       "      <th>Human</th>\n",
       "      <th>Occlusion</th>\n",
       "      <th>Info</th>\n",
       "      <th>Blur</th>\n",
       "      <th>Pawpularity</th>\n",
       "    </tr>\n",
       "  </thead>\n",
       "  <tbody>\n",
       "    <tr>\n",
       "      <th>0</th>\n",
       "      <td>0007de18844b0dbbb5e1f607da0606e0</td>\n",
       "      <td>0</td>\n",
       "      <td>1</td>\n",
       "      <td>1</td>\n",
       "      <td>1</td>\n",
       "      <td>0</td>\n",
       "      <td>0</td>\n",
       "      <td>1</td>\n",
       "      <td>0</td>\n",
       "      <td>0</td>\n",
       "      <td>0</td>\n",
       "      <td>0</td>\n",
       "      <td>0</td>\n",
       "      <td>63</td>\n",
       "    </tr>\n",
       "    <tr>\n",
       "      <th>1</th>\n",
       "      <td>0009c66b9439883ba2750fb825e1d7db</td>\n",
       "      <td>0</td>\n",
       "      <td>1</td>\n",
       "      <td>1</td>\n",
       "      <td>0</td>\n",
       "      <td>0</td>\n",
       "      <td>0</td>\n",
       "      <td>0</td>\n",
       "      <td>0</td>\n",
       "      <td>0</td>\n",
       "      <td>0</td>\n",
       "      <td>0</td>\n",
       "      <td>0</td>\n",
       "      <td>42</td>\n",
       "    </tr>\n",
       "    <tr>\n",
       "      <th>2</th>\n",
       "      <td>0013fd999caf9a3efe1352ca1b0d937e</td>\n",
       "      <td>0</td>\n",
       "      <td>1</td>\n",
       "      <td>1</td>\n",
       "      <td>1</td>\n",
       "      <td>0</td>\n",
       "      <td>0</td>\n",
       "      <td>0</td>\n",
       "      <td>0</td>\n",
       "      <td>1</td>\n",
       "      <td>1</td>\n",
       "      <td>0</td>\n",
       "      <td>0</td>\n",
       "      <td>28</td>\n",
       "    </tr>\n",
       "    <tr>\n",
       "      <th>3</th>\n",
       "      <td>0018df346ac9c1d8413cfcc888ca8246</td>\n",
       "      <td>0</td>\n",
       "      <td>1</td>\n",
       "      <td>1</td>\n",
       "      <td>1</td>\n",
       "      <td>0</td>\n",
       "      <td>0</td>\n",
       "      <td>0</td>\n",
       "      <td>0</td>\n",
       "      <td>0</td>\n",
       "      <td>0</td>\n",
       "      <td>0</td>\n",
       "      <td>0</td>\n",
       "      <td>15</td>\n",
       "    </tr>\n",
       "    <tr>\n",
       "      <th>4</th>\n",
       "      <td>001dc955e10590d3ca4673f034feeef2</td>\n",
       "      <td>0</td>\n",
       "      <td>0</td>\n",
       "      <td>0</td>\n",
       "      <td>1</td>\n",
       "      <td>0</td>\n",
       "      <td>0</td>\n",
       "      <td>1</td>\n",
       "      <td>0</td>\n",
       "      <td>0</td>\n",
       "      <td>0</td>\n",
       "      <td>0</td>\n",
       "      <td>0</td>\n",
       "      <td>72</td>\n",
       "    </tr>\n",
       "  </tbody>\n",
       "</table>\n",
       "</div>"
      ],
      "text/plain": [
       "                                 Id  Subject Focus  Eyes  Face  Near  Action  \\\n",
       "0  0007de18844b0dbbb5e1f607da0606e0              0     1     1     1       0   \n",
       "1  0009c66b9439883ba2750fb825e1d7db              0     1     1     0       0   \n",
       "2  0013fd999caf9a3efe1352ca1b0d937e              0     1     1     1       0   \n",
       "3  0018df346ac9c1d8413cfcc888ca8246              0     1     1     1       0   \n",
       "4  001dc955e10590d3ca4673f034feeef2              0     0     0     1       0   \n",
       "\n",
       "   Accessory  Group  Collage  Human  Occlusion  Info  Blur  Pawpularity  \n",
       "0          0      1        0      0          0     0     0           63  \n",
       "1          0      0        0      0          0     0     0           42  \n",
       "2          0      0        0      1          1     0     0           28  \n",
       "3          0      0        0      0          0     0     0           15  \n",
       "4          0      1        0      0          0     0     0           72  "
      ]
     },
     "execution_count": 26,
     "metadata": {},
     "output_type": "execute_result"
    }
   ],
   "source": [
    "train_df.head()"
   ]
  },
  {
   "cell_type": "code",
   "execution_count": 17,
   "id": "519030b3",
   "metadata": {},
   "outputs": [
    {
     "data": {
      "text/html": [
       "<div>\n",
       "<style scoped>\n",
       "    .dataframe tbody tr th:only-of-type {\n",
       "        vertical-align: middle;\n",
       "    }\n",
       "\n",
       "    .dataframe tbody tr th {\n",
       "        vertical-align: top;\n",
       "    }\n",
       "\n",
       "    .dataframe thead th {\n",
       "        text-align: right;\n",
       "    }\n",
       "</style>\n",
       "<table border=\"1\" class=\"dataframe\">\n",
       "  <thead>\n",
       "    <tr style=\"text-align: right;\">\n",
       "      <th></th>\n",
       "      <th>Subject Focus</th>\n",
       "      <th>Eyes</th>\n",
       "      <th>Face</th>\n",
       "      <th>Near</th>\n",
       "      <th>Action</th>\n",
       "      <th>Accessory</th>\n",
       "      <th>Group</th>\n",
       "      <th>Collage</th>\n",
       "      <th>Human</th>\n",
       "      <th>Occlusion</th>\n",
       "      <th>Info</th>\n",
       "      <th>Blur</th>\n",
       "      <th>Pawpularity</th>\n",
       "    </tr>\n",
       "  </thead>\n",
       "  <tbody>\n",
       "    <tr>\n",
       "      <th>count</th>\n",
       "      <td>9912.000000</td>\n",
       "      <td>9912.000000</td>\n",
       "      <td>9912.000000</td>\n",
       "      <td>9912.000000</td>\n",
       "      <td>9912.000000</td>\n",
       "      <td>9912.000000</td>\n",
       "      <td>9912.000000</td>\n",
       "      <td>9912.000000</td>\n",
       "      <td>9912.000000</td>\n",
       "      <td>9912.000000</td>\n",
       "      <td>9912.000000</td>\n",
       "      <td>9912.000000</td>\n",
       "      <td>9912.000000</td>\n",
       "    </tr>\n",
       "    <tr>\n",
       "      <th>mean</th>\n",
       "      <td>0.027643</td>\n",
       "      <td>0.772599</td>\n",
       "      <td>0.903955</td>\n",
       "      <td>0.861582</td>\n",
       "      <td>0.009988</td>\n",
       "      <td>0.067797</td>\n",
       "      <td>0.129338</td>\n",
       "      <td>0.049637</td>\n",
       "      <td>0.166263</td>\n",
       "      <td>0.172014</td>\n",
       "      <td>0.061239</td>\n",
       "      <td>0.070420</td>\n",
       "      <td>38.039044</td>\n",
       "    </tr>\n",
       "    <tr>\n",
       "      <th>std</th>\n",
       "      <td>0.163957</td>\n",
       "      <td>0.419175</td>\n",
       "      <td>0.294668</td>\n",
       "      <td>0.345356</td>\n",
       "      <td>0.099444</td>\n",
       "      <td>0.251409</td>\n",
       "      <td>0.335591</td>\n",
       "      <td>0.217204</td>\n",
       "      <td>0.372335</td>\n",
       "      <td>0.377411</td>\n",
       "      <td>0.239780</td>\n",
       "      <td>0.255866</td>\n",
       "      <td>20.591990</td>\n",
       "    </tr>\n",
       "    <tr>\n",
       "      <th>min</th>\n",
       "      <td>0.000000</td>\n",
       "      <td>0.000000</td>\n",
       "      <td>0.000000</td>\n",
       "      <td>0.000000</td>\n",
       "      <td>0.000000</td>\n",
       "      <td>0.000000</td>\n",
       "      <td>0.000000</td>\n",
       "      <td>0.000000</td>\n",
       "      <td>0.000000</td>\n",
       "      <td>0.000000</td>\n",
       "      <td>0.000000</td>\n",
       "      <td>0.000000</td>\n",
       "      <td>1.000000</td>\n",
       "    </tr>\n",
       "    <tr>\n",
       "      <th>25%</th>\n",
       "      <td>0.000000</td>\n",
       "      <td>1.000000</td>\n",
       "      <td>1.000000</td>\n",
       "      <td>1.000000</td>\n",
       "      <td>0.000000</td>\n",
       "      <td>0.000000</td>\n",
       "      <td>0.000000</td>\n",
       "      <td>0.000000</td>\n",
       "      <td>0.000000</td>\n",
       "      <td>0.000000</td>\n",
       "      <td>0.000000</td>\n",
       "      <td>0.000000</td>\n",
       "      <td>25.000000</td>\n",
       "    </tr>\n",
       "    <tr>\n",
       "      <th>50%</th>\n",
       "      <td>0.000000</td>\n",
       "      <td>1.000000</td>\n",
       "      <td>1.000000</td>\n",
       "      <td>1.000000</td>\n",
       "      <td>0.000000</td>\n",
       "      <td>0.000000</td>\n",
       "      <td>0.000000</td>\n",
       "      <td>0.000000</td>\n",
       "      <td>0.000000</td>\n",
       "      <td>0.000000</td>\n",
       "      <td>0.000000</td>\n",
       "      <td>0.000000</td>\n",
       "      <td>33.000000</td>\n",
       "    </tr>\n",
       "    <tr>\n",
       "      <th>75%</th>\n",
       "      <td>0.000000</td>\n",
       "      <td>1.000000</td>\n",
       "      <td>1.000000</td>\n",
       "      <td>1.000000</td>\n",
       "      <td>0.000000</td>\n",
       "      <td>0.000000</td>\n",
       "      <td>0.000000</td>\n",
       "      <td>0.000000</td>\n",
       "      <td>0.000000</td>\n",
       "      <td>0.000000</td>\n",
       "      <td>0.000000</td>\n",
       "      <td>0.000000</td>\n",
       "      <td>46.000000</td>\n",
       "    </tr>\n",
       "    <tr>\n",
       "      <th>max</th>\n",
       "      <td>1.000000</td>\n",
       "      <td>1.000000</td>\n",
       "      <td>1.000000</td>\n",
       "      <td>1.000000</td>\n",
       "      <td>1.000000</td>\n",
       "      <td>1.000000</td>\n",
       "      <td>1.000000</td>\n",
       "      <td>1.000000</td>\n",
       "      <td>1.000000</td>\n",
       "      <td>1.000000</td>\n",
       "      <td>1.000000</td>\n",
       "      <td>1.000000</td>\n",
       "      <td>100.000000</td>\n",
       "    </tr>\n",
       "  </tbody>\n",
       "</table>\n",
       "</div>"
      ],
      "text/plain": [
       "       Subject Focus         Eyes         Face         Near       Action  \\\n",
       "count    9912.000000  9912.000000  9912.000000  9912.000000  9912.000000   \n",
       "mean        0.027643     0.772599     0.903955     0.861582     0.009988   \n",
       "std         0.163957     0.419175     0.294668     0.345356     0.099444   \n",
       "min         0.000000     0.000000     0.000000     0.000000     0.000000   \n",
       "25%         0.000000     1.000000     1.000000     1.000000     0.000000   \n",
       "50%         0.000000     1.000000     1.000000     1.000000     0.000000   \n",
       "75%         0.000000     1.000000     1.000000     1.000000     0.000000   \n",
       "max         1.000000     1.000000     1.000000     1.000000     1.000000   \n",
       "\n",
       "         Accessory        Group      Collage        Human    Occlusion  \\\n",
       "count  9912.000000  9912.000000  9912.000000  9912.000000  9912.000000   \n",
       "mean      0.067797     0.129338     0.049637     0.166263     0.172014   \n",
       "std       0.251409     0.335591     0.217204     0.372335     0.377411   \n",
       "min       0.000000     0.000000     0.000000     0.000000     0.000000   \n",
       "25%       0.000000     0.000000     0.000000     0.000000     0.000000   \n",
       "50%       0.000000     0.000000     0.000000     0.000000     0.000000   \n",
       "75%       0.000000     0.000000     0.000000     0.000000     0.000000   \n",
       "max       1.000000     1.000000     1.000000     1.000000     1.000000   \n",
       "\n",
       "              Info         Blur  Pawpularity  \n",
       "count  9912.000000  9912.000000  9912.000000  \n",
       "mean      0.061239     0.070420    38.039044  \n",
       "std       0.239780     0.255866    20.591990  \n",
       "min       0.000000     0.000000     1.000000  \n",
       "25%       0.000000     0.000000    25.000000  \n",
       "50%       0.000000     0.000000    33.000000  \n",
       "75%       0.000000     0.000000    46.000000  \n",
       "max       1.000000     1.000000   100.000000  "
      ]
     },
     "execution_count": 17,
     "metadata": {},
     "output_type": "execute_result"
    }
   ],
   "source": [
    "train_df.describe()"
   ]
  },
  {
   "cell_type": "code",
   "execution_count": 18,
   "id": "e403033c",
   "metadata": {},
   "outputs": [
    {
     "name": "stdout",
     "output_type": "stream",
     "text": [
      "<class 'pandas.core.frame.DataFrame'>\n",
      "RangeIndex: 9912 entries, 0 to 9911\n",
      "Data columns (total 14 columns):\n",
      " #   Column         Non-Null Count  Dtype \n",
      "---  ------         --------------  ----- \n",
      " 0   Id             9912 non-null   object\n",
      " 1   Subject Focus  9912 non-null   int64 \n",
      " 2   Eyes           9912 non-null   int64 \n",
      " 3   Face           9912 non-null   int64 \n",
      " 4   Near           9912 non-null   int64 \n",
      " 5   Action         9912 non-null   int64 \n",
      " 6   Accessory      9912 non-null   int64 \n",
      " 7   Group          9912 non-null   int64 \n",
      " 8   Collage        9912 non-null   int64 \n",
      " 9   Human          9912 non-null   int64 \n",
      " 10  Occlusion      9912 non-null   int64 \n",
      " 11  Info           9912 non-null   int64 \n",
      " 12  Blur           9912 non-null   int64 \n",
      " 13  Pawpularity    9912 non-null   int64 \n",
      "dtypes: int64(13), object(1)\n",
      "memory usage: 1.1+ MB\n"
     ]
    }
   ],
   "source": [
    "train_df.info()"
   ]
  },
  {
   "cell_type": "code",
   "execution_count": 372,
   "id": "2f8da4c9",
   "metadata": {},
   "outputs": [
    {
     "data": {
      "image/png": "[encoded data removed]",
      "text/plain": [
       "<Figure size 432x288 with 1 Axes>"
      ]
     },
     "metadata": {
      "needs_background": "light"
     },
     "output_type": "display_data"
    }
   ],
   "source": [
    "plt.hist(train_df['Pawpularity'])\n",
    "plt.show()\n",
    "\n",
    "# Pawpularity 점수를 구간별로 나눈뒤 해당 구간에 Binary 데이터들이\n",
    "# 어떤식으로 분포되어있는지 안다면 예측에 좀더 용이하지 않을까?\n",
    "# A -> 낮은점수와 높은점수간 데이터의 분포가 다르지 않음\n"
   ]
  },
  {
   "cell_type": "code",
   "execution_count": 198,
   "id": "73551b38",
   "metadata": {},
   "outputs": [
    {
     "name": "stderr",
     "output_type": "stream",
     "text": [
      "C:\\ProgramData\\Anaconda3\\lib\\site-packages\\seaborn\\distributions.py:2557: FutureWarning: `distplot` is a deprecated function and will be removed in a future version. Please adapt your code to use either `displot` (a figure-level function with similar flexibility) or `histplot` (an axes-level function for histograms).\n",
      "  warnings.warn(msg, FutureWarning)\n"
     ]
    },
    {
     "data": {
      "text/plain": [
       "<AxesSubplot:xlabel='Pawpularity', ylabel='Density'>"
      ]
     },
     "execution_count": 198,
     "metadata": {},
     "output_type": "execute_result"
    },
    {
     "data": {
      "image/png": "[encoded data removed]",
      "text/plain": [
       "<Figure size 432x288 with 1 Axes>"
      ]
     },
     "metadata": {
      "needs_background": "light"
     },
     "output_type": "display_data"
    }
   ],
   "source": [
    "sns.distplot(train_df['Pawpularity'])\n",
    "# Pawpularity변수는 정규분포로 보임"
   ]
  },
  {
   "cell_type": "markdown",
   "id": "74b91263",
   "metadata": {},
   "source": [
    "높은 점수와 낮은 점수의 차이를 살펴보기 위해  \n",
    "Pawpularty 점수를 0-49(낮음) 50~100(높음)으로 나누어\n",
    "\n",
    "각 구간에 따른 데이터셋의 분포를 살펴보자\n"
   ]
  },
  {
   "cell_type": "code",
   "execution_count": 284,
   "id": "f208370d",
   "metadata": {
    "scrolled": true
   },
   "outputs": [],
   "source": [
    "low_paw = train_df.loc[train_df.Pawpularity<50].iloc[:,1:].sample(1000)\n",
    "high_paw = train_df.loc[(train_df.Pawpularity>=50) & (train_df.Pawpularity <=100)].iloc[:,1:].sample(1000)"
   ]
  },
  {
   "cell_type": "code",
   "execution_count": 287,
   "id": "f7a48b5a",
   "metadata": {
    "scrolled": true
   },
   "outputs": [
    {
     "data": {
      "text/plain": [
       "<AxesSubplot:>"
      ]
     },
     "execution_count": 287,
     "metadata": {},
     "output_type": "execute_result"
    },
    {
     "data": {
      "image/png": "[encoded data removed]",
      "text/plain": [
       "<Figure size 1152x576 with 1 Axes>"
      ]
     },
     "metadata": {
      "needs_background": "light"
     },
     "output_type": "display_data"
    }
   ],
   "source": [
    "low_paw.iloc[:,:-1].sum().plot.bar(figsize=(16,8),fontsize=15)"
   ]
  },
  {
   "cell_type": "code",
   "execution_count": 288,
   "id": "5f712c7a",
   "metadata": {},
   "outputs": [
    {
     "data": {
      "text/plain": [
       "<AxesSubplot:>"
      ]
     },
     "execution_count": 288,
     "metadata": {},
     "output_type": "execute_result"
    },
    {
     "data": {
      "image/png": "[encoded data removed]",
      "text/plain": [
       "<Figure size 1152x576 with 1 Axes>"
      ]
     },
     "metadata": {
      "needs_background": "light"
     },
     "output_type": "display_data"
    }
   ],
   "source": [
    "high_paw.iloc[:,:-1].sum().plot.bar(figsize=(16,8),fontsize=15)"
   ]
  },
  {
   "cell_type": "markdown",
   "id": "42723ee7",
   "metadata": {},
   "source": [
    "현재로써는 Pawpularity 점수와 데이터셋에는 영향이 많이 없어보임\n",
    "\n",
    "독립변수와 종속변수의 상관관계를 확인\n",
    "\n",
    " 이산형 -> 연속형이므로 점이연 상관관계(Point biserial correlation)\n",
    "\n"
   ]
  },
  {
   "cell_type": "code",
   "execution_count": 298,
   "id": "00b7f6ce",
   "metadata": {},
   "outputs": [
    {
     "data": {
      "text/plain": [
       "PointbiserialrResult(correlation=0.12311149570930233, pvalue=9.496271026090912e-05)"
      ]
     },
     "execution_count": 298,
     "metadata": {},
     "output_type": "execute_result"
    }
   ],
   "source": [
    "#pvalue가  .05보다 작을경우 통계적으로 유의, 클경우 유의하지 않음\n",
    "stats.pointbiserialr(low_paw.iloc[:,1],low_paw.iloc[:,-1])"
   ]
  },
  {
   "cell_type": "code",
   "execution_count": 369,
   "id": "5abbb934",
   "metadata": {
    "scrolled": true
   },
   "outputs": [
    {
     "data": {
      "text/html": [
       "<div>\n",
       "<style scoped>\n",
       "    .dataframe tbody tr th:only-of-type {\n",
       "        vertical-align: middle;\n",
       "    }\n",
       "\n",
       "    .dataframe tbody tr th {\n",
       "        vertical-align: top;\n",
       "    }\n",
       "\n",
       "    .dataframe thead th {\n",
       "        text-align: right;\n",
       "    }\n",
       "</style>\n",
       "<table border=\"1\" class=\"dataframe\">\n",
       "  <thead>\n",
       "    <tr style=\"text-align: right;\">\n",
       "      <th></th>\n",
       "      <th>Petpularity</th>\n",
       "      <th>P_value</th>\n",
       "    </tr>\n",
       "  </thead>\n",
       "  <tbody>\n",
       "    <tr>\n",
       "      <th>Group</th>\n",
       "      <td>0.016469</td>\n",
       "      <td>유의하지 않음</td>\n",
       "    </tr>\n",
       "    <tr>\n",
       "      <th>Accessory</th>\n",
       "      <td>0.013287</td>\n",
       "      <td>유의하지 않음</td>\n",
       "    </tr>\n",
       "    <tr>\n",
       "      <th>Face</th>\n",
       "      <td>0.008018</td>\n",
       "      <td>유의하지 않음</td>\n",
       "    </tr>\n",
       "    <tr>\n",
       "      <th>Human</th>\n",
       "      <td>0.003983</td>\n",
       "      <td>유의하지 않음</td>\n",
       "    </tr>\n",
       "    <tr>\n",
       "      <th>Occlusion</th>\n",
       "      <td>0.001979</td>\n",
       "      <td>유의하지 않음</td>\n",
       "    </tr>\n",
       "    <tr>\n",
       "      <th>Collage</th>\n",
       "      <td>0.001732</td>\n",
       "      <td>유의하지 않음</td>\n",
       "    </tr>\n",
       "    <tr>\n",
       "      <th>Near</th>\n",
       "      <td>0.001001</td>\n",
       "      <td>유의하지 않음</td>\n",
       "    </tr>\n",
       "    <tr>\n",
       "      <th>Action</th>\n",
       "      <td>-0.001373</td>\n",
       "      <td>유의하지 않음</td>\n",
       "    </tr>\n",
       "    <tr>\n",
       "      <th>Info</th>\n",
       "      <td>-0.004735</td>\n",
       "      <td>유의하지 않음</td>\n",
       "    </tr>\n",
       "    <tr>\n",
       "      <th>Eyes</th>\n",
       "      <td>-0.006686</td>\n",
       "      <td>유의하지 않음</td>\n",
       "    </tr>\n",
       "    <tr>\n",
       "      <th>Subject Focus</th>\n",
       "      <td>-0.009853</td>\n",
       "      <td>유의하지 않음</td>\n",
       "    </tr>\n",
       "    <tr>\n",
       "      <th>Blur</th>\n",
       "      <td>-0.023540</td>\n",
       "      <td>유의</td>\n",
       "    </tr>\n",
       "  </tbody>\n",
       "</table>\n",
       "</div>"
      ],
      "text/plain": [
       "               Petpularity  P_value\n",
       "Group             0.016469  유의하지 않음\n",
       "Accessory         0.013287  유의하지 않음\n",
       "Face              0.008018  유의하지 않음\n",
       "Human             0.003983  유의하지 않음\n",
       "Occlusion         0.001979  유의하지 않음\n",
       "Collage           0.001732  유의하지 않음\n",
       "Near              0.001001  유의하지 않음\n",
       "Action           -0.001373  유의하지 않음\n",
       "Info             -0.004735  유의하지 않음\n",
       "Eyes             -0.006686  유의하지 않음\n",
       "Subject Focus    -0.009853  유의하지 않음\n",
       "Blur             -0.023540       유의"
      ]
     },
     "execution_count": 369,
     "metadata": {},
     "output_type": "execute_result"
    }
   ],
   "source": [
    "corr_list=[]\n",
    "p_value =[]\n",
    "for columns in temp.iloc[:,:-1]:\n",
    "    x = temp[columns]\n",
    "    corr = stats.pointbiserialr(list(x),list(temp['Pawpularity']))\n",
    "    if corr[1] < 0.05:\n",
    "        p_value.append('유의')\n",
    "    else : \n",
    "        p_value.append('유의하지 않음')\n",
    "    corr_list.append(corr[0])\n",
    "    \n",
    "point_corr = pd.DataFrame({'Petpularity' : corr_list, 'P_value' : p_value}).set_index(temp.iloc[:,:-1].columns)\n",
    "point_corr.sort_values(by=['Petpularity'],axis=0,ascending=False)"
   ]
  },
  {
   "cell_type": "markdown",
   "id": "7269118d",
   "metadata": {},
   "source": [
    "통계적으로도 유의하지 않으며, 이렇다할 상관관계도 보이지 않음\n",
    "\n",
    "높은점수와 낮은점수에서의 상관관계는?"
   ]
  },
  {
   "cell_type": "code",
   "execution_count": 370,
   "id": "e905159d",
   "metadata": {},
   "outputs": [
    {
     "data": {
      "text/html": [
       "<div>\n",
       "<style scoped>\n",
       "    .dataframe tbody tr th:only-of-type {\n",
       "        vertical-align: middle;\n",
       "    }\n",
       "\n",
       "    .dataframe tbody tr th {\n",
       "        vertical-align: top;\n",
       "    }\n",
       "\n",
       "    .dataframe thead th {\n",
       "        text-align: right;\n",
       "    }\n",
       "</style>\n",
       "<table border=\"1\" class=\"dataframe\">\n",
       "  <thead>\n",
       "    <tr style=\"text-align: right;\">\n",
       "      <th></th>\n",
       "      <th>Petpularity</th>\n",
       "      <th>P_value</th>\n",
       "    </tr>\n",
       "  </thead>\n",
       "  <tbody>\n",
       "    <tr>\n",
       "      <th>Near</th>\n",
       "      <td>0.050445</td>\n",
       "      <td>유의하지 않음</td>\n",
       "    </tr>\n",
       "    <tr>\n",
       "      <th>Accessory</th>\n",
       "      <td>0.041101</td>\n",
       "      <td>유의하지 않음</td>\n",
       "    </tr>\n",
       "    <tr>\n",
       "      <th>Human</th>\n",
       "      <td>0.027303</td>\n",
       "      <td>유의하지 않음</td>\n",
       "    </tr>\n",
       "    <tr>\n",
       "      <th>Collage</th>\n",
       "      <td>0.017350</td>\n",
       "      <td>유의하지 않음</td>\n",
       "    </tr>\n",
       "    <tr>\n",
       "      <th>Blur</th>\n",
       "      <td>-0.000045</td>\n",
       "      <td>유의하지 않음</td>\n",
       "    </tr>\n",
       "    <tr>\n",
       "      <th>Action</th>\n",
       "      <td>-0.002125</td>\n",
       "      <td>유의하지 않음</td>\n",
       "    </tr>\n",
       "    <tr>\n",
       "      <th>Info</th>\n",
       "      <td>-0.008001</td>\n",
       "      <td>유의하지 않음</td>\n",
       "    </tr>\n",
       "    <tr>\n",
       "      <th>Occlusion</th>\n",
       "      <td>-0.013525</td>\n",
       "      <td>유의하지 않음</td>\n",
       "    </tr>\n",
       "    <tr>\n",
       "      <th>Face</th>\n",
       "      <td>-0.021941</td>\n",
       "      <td>유의하지 않음</td>\n",
       "    </tr>\n",
       "    <tr>\n",
       "      <th>Subject Focus</th>\n",
       "      <td>-0.025605</td>\n",
       "      <td>유의하지 않음</td>\n",
       "    </tr>\n",
       "    <tr>\n",
       "      <th>Eyes</th>\n",
       "      <td>-0.026908</td>\n",
       "      <td>유의하지 않음</td>\n",
       "    </tr>\n",
       "    <tr>\n",
       "      <th>Group</th>\n",
       "      <td>-0.101998</td>\n",
       "      <td>유의</td>\n",
       "    </tr>\n",
       "  </tbody>\n",
       "</table>\n",
       "</div>"
      ],
      "text/plain": [
       "               Petpularity  P_value\n",
       "Near              0.050445  유의하지 않음\n",
       "Accessory         0.041101  유의하지 않음\n",
       "Human             0.027303  유의하지 않음\n",
       "Collage           0.017350  유의하지 않음\n",
       "Blur             -0.000045  유의하지 않음\n",
       "Action           -0.002125  유의하지 않음\n",
       "Info             -0.008001  유의하지 않음\n",
       "Occlusion        -0.013525  유의하지 않음\n",
       "Face             -0.021941  유의하지 않음\n",
       "Subject Focus    -0.025605  유의하지 않음\n",
       "Eyes             -0.026908  유의하지 않음\n",
       "Group            -0.101998       유의"
      ]
     },
     "execution_count": 370,
     "metadata": {},
     "output_type": "execute_result"
    }
   ],
   "source": [
    "corr_list=[]\n",
    "p_value =[]\n",
    "for columns in high_paw.iloc[:,:-1]:\n",
    "    x = high_paw[columns]\n",
    "    corr = stats.pointbiserialr(list(x),list(high_paw['Pawpularity']))\n",
    "    if corr[1] < 0.05:\n",
    "        p_value.append('유의')\n",
    "    else : \n",
    "        p_value.append('유의하지 않음')\n",
    "    corr_list.append(corr[0])\n",
    "    \n",
    "point_corr = pd.DataFrame({'Petpularity' : corr_list, 'P_value' : p_value}).set_index(high_paw.iloc[:,:-1].columns)\n",
    "point_corr.sort_values(by=['Petpularity'],axis=0,ascending=False)"
   ]
  },
  {
   "cell_type": "code",
   "execution_count": 371,
   "id": "291db064",
   "metadata": {},
   "outputs": [
    {
     "data": {
      "text/html": [
       "<div>\n",
       "<style scoped>\n",
       "    .dataframe tbody tr th:only-of-type {\n",
       "        vertical-align: middle;\n",
       "    }\n",
       "\n",
       "    .dataframe tbody tr th {\n",
       "        vertical-align: top;\n",
       "    }\n",
       "\n",
       "    .dataframe thead th {\n",
       "        text-align: right;\n",
       "    }\n",
       "</style>\n",
       "<table border=\"1\" class=\"dataframe\">\n",
       "  <thead>\n",
       "    <tr style=\"text-align: right;\">\n",
       "      <th></th>\n",
       "      <th>Petpularity</th>\n",
       "      <th>P_value</th>\n",
       "    </tr>\n",
       "  </thead>\n",
       "  <tbody>\n",
       "    <tr>\n",
       "      <th>Eyes</th>\n",
       "      <td>0.123111</td>\n",
       "      <td>유의</td>\n",
       "    </tr>\n",
       "    <tr>\n",
       "      <th>Face</th>\n",
       "      <td>0.066868</td>\n",
       "      <td>유의</td>\n",
       "    </tr>\n",
       "    <tr>\n",
       "      <th>Group</th>\n",
       "      <td>0.064776</td>\n",
       "      <td>유의</td>\n",
       "    </tr>\n",
       "    <tr>\n",
       "      <th>Info</th>\n",
       "      <td>0.050324</td>\n",
       "      <td>유의하지 않음</td>\n",
       "    </tr>\n",
       "    <tr>\n",
       "      <th>Occlusion</th>\n",
       "      <td>0.047853</td>\n",
       "      <td>유의하지 않음</td>\n",
       "    </tr>\n",
       "    <tr>\n",
       "      <th>Accessory</th>\n",
       "      <td>0.047423</td>\n",
       "      <td>유의하지 않음</td>\n",
       "    </tr>\n",
       "    <tr>\n",
       "      <th>Human</th>\n",
       "      <td>0.006104</td>\n",
       "      <td>유의하지 않음</td>\n",
       "    </tr>\n",
       "    <tr>\n",
       "      <th>Collage</th>\n",
       "      <td>-0.003530</td>\n",
       "      <td>유의하지 않음</td>\n",
       "    </tr>\n",
       "    <tr>\n",
       "      <th>Action</th>\n",
       "      <td>-0.021238</td>\n",
       "      <td>유의하지 않음</td>\n",
       "    </tr>\n",
       "    <tr>\n",
       "      <th>Near</th>\n",
       "      <td>-0.025386</td>\n",
       "      <td>유의하지 않음</td>\n",
       "    </tr>\n",
       "    <tr>\n",
       "      <th>Subject Focus</th>\n",
       "      <td>-0.037080</td>\n",
       "      <td>유의하지 않음</td>\n",
       "    </tr>\n",
       "    <tr>\n",
       "      <th>Blur</th>\n",
       "      <td>-0.081010</td>\n",
       "      <td>유의</td>\n",
       "    </tr>\n",
       "  </tbody>\n",
       "</table>\n",
       "</div>"
      ],
      "text/plain": [
       "               Petpularity  P_value\n",
       "Eyes              0.123111       유의\n",
       "Face              0.066868       유의\n",
       "Group             0.064776       유의\n",
       "Info              0.050324  유의하지 않음\n",
       "Occlusion         0.047853  유의하지 않음\n",
       "Accessory         0.047423  유의하지 않음\n",
       "Human             0.006104  유의하지 않음\n",
       "Collage          -0.003530  유의하지 않음\n",
       "Action           -0.021238  유의하지 않음\n",
       "Near             -0.025386  유의하지 않음\n",
       "Subject Focus    -0.037080  유의하지 않음\n",
       "Blur             -0.081010       유의"
      ]
     },
     "execution_count": 371,
     "metadata": {},
     "output_type": "execute_result"
    }
   ],
   "source": [
    "corr_list=[]\n",
    "p_value =[]\n",
    "for columns in low_paw.iloc[:,:-1]:\n",
    "    x = low_paw[columns]\n",
    "    corr = stats.pointbiserialr(list(x),list(low_paw['Pawpularity']))\n",
    "    if corr[1] < 0.05:\n",
    "        p_value.append('유의')\n",
    "    else : \n",
    "        p_value.append('유의하지 않음')\n",
    "    corr_list.append(corr[0])\n",
    "    \n",
    "point_corr = pd.DataFrame({'Petpularity' : corr_list, 'P_value' : p_value}).set_index(low_paw.iloc[:,:-1].columns)\n",
    "point_corr.sort_values(by=['Petpularity'],axis=0,ascending=False)"
   ]
  },
  {
   "cell_type": "markdown",
   "id": "2493a428",
   "metadata": {},
   "source": [
    "역시나 이렇다할 상관관계는 보이지 않는다\n",
    "\n",
    "컬럼만으로 정확한 점수를 예측하는것에는 무리가 있어보이나\n",
    "\n",
    "일단 예측을 시도해보자"
   ]
  },
  {
   "cell_type": "code",
   "execution_count": null,
   "id": "ca998110",
   "metadata": {},
   "outputs": [],
   "source": []
  }
 ],
 "metadata": {
  "kernelspec": {
   "display_name": "Python 3",
   "language": "python",
   "name": "python3"
  },
  "language_info": {
   "codemirror_mode": {
    "name": "ipython",
    "version": 3
   },
   "file_extension": ".py",
   "mimetype": "text/x-python",
   "name": "python",
   "nbconvert_exporter": "python",
   "pygments_lexer": "ipython3",
   "version": "3.8.8"
  }
 },
 "nbformat": 4,
 "nbformat_minor": 5
}
